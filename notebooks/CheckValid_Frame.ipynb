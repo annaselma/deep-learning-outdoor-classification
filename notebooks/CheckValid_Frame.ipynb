{
 "cells": [
  {
   "cell_type": "code",
   "execution_count": 1,
   "metadata": {},
   "outputs": [],
   "source": [
    "import numpy as np\n",
    "import cv2\n",
    "from time import time as timer\n",
    "import sys\n",
    "import os\n",
    "import pandas as pd\n",
    "import matplotlib.pyplot as plt\n",
    "from PIL import Image\n",
    "%matplotlib inline\n",
    "\n",
    "pwd = os.getcwd().replace(\"notebooks\",\"\")\n",
    "path_videos = pwd + 'videos/'\n",
    "path_data = pwd + 'data/'\n",
    "# read frames \n",
    "paths_videos = os.listdir(path_data)\n",
    "paths_videos = [path_data + v + '/' for v in paths_videos if v != '.DS_Store' and v != 'labels.csv']\n",
    "paths_videos.sort()\n",
    "if not os.path.exists(pwd + 'data/labels.csv'):\n",
    "    print(\"ERROR: labels.csv missing - please copy labels.csv to /data/labels.csv\")\n",
    "    print()\n",
    "    print(\"Sample label file below:\")    \n",
    "    print(\"\"\"video\\t\\t\\tframe \\t\\t\\t\\t label\n",
    "    20160801_no9_1\\t\\t20160801_no9_1_00001.jpeg\tsearch\n",
    "    20160801_no9_1\\t\\t20160801_no9_1_00002.jpeg\tsearch\n",
    "    ...\"\"\")\n",
    "    print()\n"
   ]
  },
  {
   "cell_type": "code",
   "execution_count": 2,
   "metadata": {},
   "outputs": [],
   "source": [
    "# load labels\n",
    "labels = pd.read_csv(path_data + 'labels.csv')"
   ]
  },
  {
   "cell_type": "code",
   "execution_count": 3,
   "metadata": {},
   "outputs": [
    {
     "data": {
      "text/html": [
       "<div>\n",
       "<style scoped>\n",
       "    .dataframe tbody tr th:only-of-type {\n",
       "        vertical-align: middle;\n",
       "    }\n",
       "\n",
       "    .dataframe tbody tr th {\n",
       "        vertical-align: top;\n",
       "    }\n",
       "\n",
       "    .dataframe thead th {\n",
       "        text-align: right;\n",
       "    }\n",
       "</style>\n",
       "<table border=\"1\" class=\"dataframe\">\n",
       "  <thead>\n",
       "    <tr style=\"text-align: right;\">\n",
       "      <th></th>\n",
       "      <th>video</th>\n",
       "      <th>frame</th>\n",
       "      <th>label</th>\n",
       "      <th>split</th>\n",
       "    </tr>\n",
       "  </thead>\n",
       "  <tbody>\n",
       "    <tr>\n",
       "      <th>0</th>\n",
       "      <td>video_1_000000</td>\n",
       "      <td>video_1_000000.jpg</td>\n",
       "      <td>room1</td>\n",
       "      <td>train</td>\n",
       "    </tr>\n",
       "    <tr>\n",
       "      <th>1</th>\n",
       "      <td>video_1_000001</td>\n",
       "      <td>video_1_000001.jpg</td>\n",
       "      <td>room1</td>\n",
       "      <td>train</td>\n",
       "    </tr>\n",
       "    <tr>\n",
       "      <th>2</th>\n",
       "      <td>video_1_000002</td>\n",
       "      <td>video_1_000002.jpg</td>\n",
       "      <td>room1</td>\n",
       "      <td>train</td>\n",
       "    </tr>\n",
       "    <tr>\n",
       "      <th>3</th>\n",
       "      <td>video_1_000003</td>\n",
       "      <td>video_1_000003.jpg</td>\n",
       "      <td>room1</td>\n",
       "      <td>train</td>\n",
       "    </tr>\n",
       "    <tr>\n",
       "      <th>4</th>\n",
       "      <td>video_1_000004</td>\n",
       "      <td>video_1_000004.jpg</td>\n",
       "      <td>room1</td>\n",
       "      <td>train</td>\n",
       "    </tr>\n",
       "  </tbody>\n",
       "</table>\n",
       "</div>"
      ],
      "text/plain": [
       "            video               frame  label  split\n",
       "0  video_1_000000  video_1_000000.jpg  room1  train\n",
       "1  video_1_000001  video_1_000001.jpg  room1  train\n",
       "2  video_1_000002  video_1_000002.jpg  room1  train\n",
       "3  video_1_000003  video_1_000003.jpg  room1  train\n",
       "4  video_1_000004  video_1_000004.jpg  room1  train"
      ]
     },
     "execution_count": 3,
     "metadata": {},
     "output_type": "execute_result"
    }
   ],
   "source": [
    "labels['frame'] = labels['frame'].str.replace('.jpeg','.jpg')\n",
    "labels.head()"
   ]
  },
  {
   "cell_type": "code",
   "execution_count": 4,
   "metadata": {},
   "outputs": [
    {
     "name": "stdout",
     "output_type": "stream",
     "text": [
      "ERRORS: 1 VIDS WITH #LABELS != #FRAMES\n",
      "video_1 .::. Different number of labels (0) than frames (26) ... DIFF: -26 \n",
      "\n",
      "\n",
      "OK: 0 VIDS WITH #LABELS == #FRAMES\n"
     ]
    }
   ],
   "source": [
    "vids_error = []\n",
    "vids_ok = []\n",
    "\n",
    "# for path_video in paths_videos:    \n",
    "for path_video in paths_videos:\n",
    "\n",
    "    # get vid name from path\n",
    "    vid_name = path_video[:-1].split(\"/\")[-1]\n",
    "\n",
    "    # convert list of frame files to dataframe\n",
    "    paths_frames = os.listdir(path_video)\n",
    "    paths_frames = [f for f in paths_frames if f != '.DS_Store']\n",
    "    paths_frames = pd.DataFrame(paths_frames, columns = ['frame_file'])\n",
    "\n",
    "    # subset labels to just this vid\n",
    "    labels_vid = labels[labels['video'] == vid_name]\n",
    "\n",
    "    # collect errors so can print grouped\n",
    "    if not len(labels_vid) == len(paths_frames):\n",
    "        vids_error.append(\"{} .::. Different number of labels ({}) than frames ({}) ... DIFF: {} \".format(vid_name, len(labels_vid),len(paths_frames), len(labels_vid) - len(paths_frames)))\n",
    "    else:\n",
    "        vids_ok.append(\"{} .::. Same number of labels and frames for vid\".format(vid_name))\n",
    "\n",
    "# print errors\n",
    "print(\"ERRORS: {} VIDS WITH #LABELS != #FRAMES\".format(len(vids_error)))\n",
    "for msg in vids_error:\n",
    "    print(msg)\n",
    "\n",
    "print(\"\\n\")\n",
    "print(\"OK: {} VIDS WITH #LABELS == #FRAMES\".format(len(vids_ok)))\n",
    "for msg in vids_ok:\n",
    "    print(msg)"
   ]
  },
  {
   "cell_type": "code",
   "execution_count": 5,
   "metadata": {},
   "outputs": [
    {
     "name": "stdout",
     "output_type": "stream",
     "text": [
      "video_1\n",
      "0\n"
     ]
    }
   ],
   "source": [
    "# missig Frames from video    \n",
    "for vid_error in vids_error:\n",
    "\n",
    "    # get vid name from path\n",
    "    vid_name = vid_error.split(\" .::.\")[0]\n",
    "    print(vid_name)\n",
    "\n",
    "    # convert list of frame files to dataframe\n",
    "    paths_frames = os.listdir(path_data+vid_name)\n",
    "    paths_frames = [f for f in paths_frames if f != '.DS_Store']\n",
    "    paths_frames = pd.DataFrame(paths_frames, columns = ['frame_file'])\n",
    "    paths_frames.sort_values('frame_file', inplace=True)\n",
    "\n",
    "    # figure out which frames we're missing\n",
    "    labels_vid = labels[labels['video'] == vid_name]\n",
    "\n",
    "    labels_vid = pd.merge(labels_vid,paths_frames,left_on='frame', right_on='frame_file',how='left')\n",
    "\n",
    "    print(len(labels_vid[labels_vid['frame_file'].isnull()]))\n",
    "    \n",
    "#     print(labels_vid[labels_vid['frame_file'].isnull()])"
   ]
  },
  {
   "cell_type": "code",
   "execution_count": null,
   "metadata": {},
   "outputs": [],
   "source": []
  }
 ],
 "metadata": {
  "kernelspec": {
   "display_name": "Python 3",
   "language": "python",
   "name": "python3"
  },
  "language_info": {
   "codemirror_mode": {
    "name": "ipython",
    "version": 3
   },
   "file_extension": ".py",
   "mimetype": "text/x-python",
   "name": "python",
   "nbconvert_exporter": "python",
   "pygments_lexer": "ipython3",
   "version": "3.7.6"
  }
 },
 "nbformat": 4,
 "nbformat_minor": 4
}
