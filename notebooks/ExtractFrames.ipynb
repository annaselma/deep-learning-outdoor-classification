{
 "cells": [
  {
   "cell_type": "code",
   "execution_count": 22,
   "metadata": {},
   "outputs": [],
   "source": [
    "# define FPS to extract frames at\n",
    "FPS_OUTPUT = 2"
   ]
  },
  {
   "cell_type": "code",
   "execution_count": 23,
   "metadata": {},
   "outputs": [],
   "source": [
    "import numpy as np\n",
    "import cv2\n",
    "from time import time as timer\n",
    "import sys\n",
    "import os\n",
    "import pandas as pd"
   ]
  },
  {
   "cell_type": "code",
   "execution_count": 24,
   "metadata": {},
   "outputs": [],
   "source": [
    "# setup paths\n",
    "pwd = os.getcwd().replace(\"notebooks\",\"\")\n",
    "path_videos = pwd + 'videos/'\n",
    "path_data = pwd + 'data/'"
   ]
  },
  {
   "cell_type": "code",
   "execution_count": 25,
   "metadata": {},
   "outputs": [
    {
     "ename": "FileNotFoundError",
     "evalue": "[Errno 2] No such file or directory: '/Users/salmaannagrebah/Documents/DevProjects/deep-learning-outdoor-classification/utilsvideos/'",
     "output_type": "error",
     "traceback": [
      "\u001b[0;31m---------------------------------------------------------------------------\u001b[0m",
      "\u001b[0;31mFileNotFoundError\u001b[0m                         Traceback (most recent call last)",
      "\u001b[0;32m<ipython-input-25-edbb0fdef7c7>\u001b[0m in \u001b[0;36m<module>\u001b[0;34m\u001b[0m\n\u001b[1;32m      1\u001b[0m \u001b[0;31m# read video paths\u001b[0m\u001b[0;34m\u001b[0m\u001b[0;34m\u001b[0m\u001b[0;34m\u001b[0m\u001b[0m\n\u001b[0;32m----> 2\u001b[0;31m \u001b[0mpaths\u001b[0m \u001b[0;34m=\u001b[0m \u001b[0mos\u001b[0m\u001b[0;34m.\u001b[0m\u001b[0mlistdir\u001b[0m\u001b[0;34m(\u001b[0m\u001b[0mpath_videos\u001b[0m\u001b[0;34m)\u001b[0m\u001b[0;34m\u001b[0m\u001b[0;34m\u001b[0m\u001b[0m\n\u001b[0m\u001b[1;32m      3\u001b[0m \u001b[0mpaths\u001b[0m \u001b[0;34m=\u001b[0m \u001b[0;34m[\u001b[0m\u001b[0mpath_videos\u001b[0m \u001b[0;34m+\u001b[0m \u001b[0mv\u001b[0m \u001b[0;32mfor\u001b[0m \u001b[0mv\u001b[0m \u001b[0;32min\u001b[0m \u001b[0mpaths\u001b[0m \u001b[0;32mif\u001b[0m \u001b[0mv\u001b[0m \u001b[0;34m!=\u001b[0m \u001b[0;34m'.DS_Store'\u001b[0m\u001b[0;34m]\u001b[0m\u001b[0;34m\u001b[0m\u001b[0;34m\u001b[0m\u001b[0m\n\u001b[1;32m      4\u001b[0m \u001b[0mpaths\u001b[0m\u001b[0;34m\u001b[0m\u001b[0;34m\u001b[0m\u001b[0m\n",
      "\u001b[0;31mFileNotFoundError\u001b[0m: [Errno 2] No such file or directory: '/Users/salmaannagrebah/Documents/DevProjects/deep-learning-outdoor-classification/utilsvideos/'"
     ]
    }
   ],
   "source": [
    "# read video paths\n",
    "paths = os.listdir(path_videos)\n",
    "paths = [path_videos + v for v in paths if v != '.DS_Store']\n",
    "paths"
   ]
  },
  {
   "cell_type": "code",
   "execution_count": 17,
   "metadata": {},
   "outputs": [
    {
     "name": "stdout",
     "output_type": "stream",
     "text": [
      "video_1\n",
      "Frames already extracted from video 1/1\n",
      "Done extracting frames from 1 videos\n"
     ]
    }
   ],
   "source": [
    "# create data folder\n",
    "if not os.path.exists(path_data):\n",
    "    os.makedirs(path_data)\n",
    "\n",
    "for c, path in enumerate(paths):\n",
    "\n",
    "    # extract video filename from path\n",
    "    filename = path.split(\"/\")[-1].split(\".\")[0]\n",
    "    print(filename)\n",
    "\n",
    "    if not os.path.exists(path_data + filename):\n",
    "\n",
    "        print(\"Extracting frames from video {}/{}: {}\".format(c+1,len(paths),filename))\n",
    "\n",
    "        # create directory for this video's frames\n",
    "        os.makedirs(path_data + filename)\n",
    "\n",
    "        # open video\n",
    "        vidcap = cv2.VideoCapture(path)\n",
    "\n",
    "        # get fps\n",
    "        print(\"video FPS {}\".format(vidcap.get(cv2.CAP_PROP_FPS)))\n",
    "        fps = vidcap.get(cv2.CAP_PROP_FPS)\n",
    "        fps_savecheck = fps/FPS_OUTPUT\n",
    "\n",
    "        # read frames and save to images at fps_save\n",
    "        success,image = vidcap.read()\n",
    "        count_frame = 0\n",
    "        count_saved = 0\n",
    "        success = True\n",
    "\n",
    "        fps_savecheck_progress = 0\n",
    "\n",
    "        # only extract a subset of frames\n",
    "        while success and count_saved<=100:\n",
    "        # extract all frames\n",
    "            # save frame at desired framerate, indexing filename from 0\n",
    "            if count_frame > fps_savecheck_progress:\n",
    "                cv2.imwrite(path_data + filename + '/' + filename + \"_%06d.jpg\" % count_saved, image)\n",
    "                fps_savecheck_progress += fps_savecheck\n",
    "                count_saved += 1\n",
    "            success,image = vidcap.read()\n",
    "            count_frame += 1\n",
    "\n",
    "        # close video file\n",
    "        vidcap.release()\n",
    "        \n",
    "    else:\n",
    "        print(\"Frames already extracted from video {}/{}\".format(c+1,len(paths)))\n",
    "\n",
    "# Done\n",
    "print(\"Done extracting frames from {} videos\".format(len(paths)))"
   ]
  },
  {
   "cell_type": "code",
   "execution_count": null,
   "metadata": {},
   "outputs": [],
   "source": []
  }
 ],
 "metadata": {
  "kernelspec": {
   "display_name": "Python 3",
   "language": "python",
   "name": "python3"
  },
  "language_info": {
   "codemirror_mode": {
    "name": "ipython",
    "version": 3
   },
   "file_extension": ".py",
   "mimetype": "text/x-python",
   "name": "python",
   "nbconvert_exporter": "python",
   "pygments_lexer": "ipython3",
   "version": "3.7.6"
  }
 },
 "nbformat": 4,
 "nbformat_minor": 4
}
